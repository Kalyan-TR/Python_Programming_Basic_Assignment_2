{
 "cells": [
  {
   "cell_type": "code",
   "execution_count": 1,
   "id": "9872ccfa",
   "metadata": {},
   "outputs": [
    {
     "name": "stdout",
     "output_type": "stream",
     "text": [
      "Enter the value of kilometers: 15\n",
      "15.00 kilometers is equal to 9.32 miles\n"
     ]
    }
   ],
   "source": [
    "# Input the kilometers \n",
    "kilometers = int(input(\"Enter the value of kilometers: \"))\n",
    "#1 kilometer = 0.621371\n",
    "conv_rate = 0.621371 \n",
    "miles = kilometers*conv_rate\n",
    "print(\"%0.2f kilometers is equal to %0.2f miles\" %(kilometers, miles))"
   ]
  },
  {
   "cell_type": "code",
   "execution_count": 2,
   "id": "135405ce",
   "metadata": {},
   "outputs": [
    {
     "name": "stdout",
     "output_type": "stream",
     "text": [
      "Enter the value of celsius: 37.5\n",
      "37.50 celsius is equal to 99.50 fahrenheit\n"
     ]
    }
   ],
   "source": [
    "# python Program to convert temperature in celsius to fahrenheit\n",
    "celsius = float(input(\"Enter the value of celsius: \"))\n",
    "fahrenheit = (celsius*1.8) + 32 \n",
    "print(\"%0.2f celsius is equal to %0.2f fahrenheit\" %(celsius, fahrenheit))"
   ]
  },
  {
   "cell_type": "code",
   "execution_count": 3,
   "id": "217fdfbd",
   "metadata": {},
   "outputs": [
    {
     "name": "stdout",
     "output_type": "stream",
     "text": [
      "                                  2021\n",
      "\n",
      "      January                   February                   March\n",
      "Mo Tu We Th Fr Sa Su      Mo Tu We Th Fr Sa Su      Mo Tu We Th Fr Sa Su\n",
      "             1  2  3       1  2  3  4  5  6  7       1  2  3  4  5  6  7\n",
      " 4  5  6  7  8  9 10       8  9 10 11 12 13 14       8  9 10 11 12 13 14\n",
      "11 12 13 14 15 16 17      15 16 17 18 19 20 21      15 16 17 18 19 20 21\n",
      "18 19 20 21 22 23 24      22 23 24 25 26 27 28      22 23 24 25 26 27 28\n",
      "25 26 27 28 29 30 31                                29 30 31\n",
      "\n",
      "       April                      May                       June\n",
      "Mo Tu We Th Fr Sa Su      Mo Tu We Th Fr Sa Su      Mo Tu We Th Fr Sa Su\n",
      "          1  2  3  4                      1  2          1  2  3  4  5  6\n",
      " 5  6  7  8  9 10 11       3  4  5  6  7  8  9       7  8  9 10 11 12 13\n",
      "12 13 14 15 16 17 18      10 11 12 13 14 15 16      14 15 16 17 18 19 20\n",
      "19 20 21 22 23 24 25      17 18 19 20 21 22 23      21 22 23 24 25 26 27\n",
      "26 27 28 29 30            24 25 26 27 28 29 30      28 29 30\n",
      "                          31\n",
      "\n",
      "        July                     August                  September\n",
      "Mo Tu We Th Fr Sa Su      Mo Tu We Th Fr Sa Su      Mo Tu We Th Fr Sa Su\n",
      "          1  2  3  4                         1             1  2  3  4  5\n",
      " 5  6  7  8  9 10 11       2  3  4  5  6  7  8       6  7  8  9 10 11 12\n",
      "12 13 14 15 16 17 18       9 10 11 12 13 14 15      13 14 15 16 17 18 19\n",
      "19 20 21 22 23 24 25      16 17 18 19 20 21 22      20 21 22 23 24 25 26\n",
      "26 27 28 29 30 31         23 24 25 26 27 28 29      27 28 29 30\n",
      "                          30 31\n",
      "\n",
      "      October                   November                  December\n",
      "Mo Tu We Th Fr Sa Su      Mo Tu We Th Fr Sa Su      Mo Tu We Th Fr Sa Su\n",
      "             1  2  3       1  2  3  4  5  6  7             1  2  3  4  5\n",
      " 4  5  6  7  8  9 10       8  9 10 11 12 13 14       6  7  8  9 10 11 12\n",
      "11 12 13 14 15 16 17      15 16 17 18 19 20 21      13 14 15 16 17 18 19\n",
      "18 19 20 21 22 23 24      22 23 24 25 26 27 28      20 21 22 23 24 25 26\n",
      "25 26 27 28 29 30 31      29 30                     27 28 29 30 31\n",
      "\n"
     ]
    }
   ],
   "source": [
    "# python program to display calendar\n",
    "import calendar\n",
    "yy = 2021\n",
    "print(calendar.calendar(yy))"
   ]
  },
  {
   "cell_type": "code",
   "execution_count": 4,
   "id": "353f973c",
   "metadata": {},
   "outputs": [],
   "source": [
    "import math"
   ]
  },
  {
   "cell_type": "code",
   "execution_count": 5,
   "id": "63874081",
   "metadata": {},
   "outputs": [
    {
     "name": "stdout",
     "output_type": "stream",
     "text": [
      "Roots are\n",
      "-3.414213562373095\n",
      "-0.5857864376269049\n"
     ]
    }
   ],
   "source": [
    "a, b, c = 1, 4, 2\n",
    "\n",
    "root_1 = (-b - math.sqrt((b*b) - (4*a*c)) )/(2*a)\n",
    "root_2 = (-b + math.sqrt((b*b) - (4*a*c)) )/(2*a)\n",
    "\n",
    "print(\"Roots are\")\n",
    "print(root_1)\n",
    "print(root_2)"
   ]
  },
  {
   "cell_type": "code",
   "execution_count": 6,
   "id": "7eb5cc49",
   "metadata": {},
   "outputs": [
    {
     "name": "stdout",
     "output_type": "stream",
     "text": [
      "Value of x before swaping is: 10\n",
      "Value of y before swaping is: 5\n",
      "Value of x after swaping is: 5\n",
      "Value of y after swaping is: 10\n"
     ]
    }
   ],
   "source": [
    "# Python program to swap two variables without temp variable\n",
    "x = 10\n",
    "y = 5\n",
    "print(\"Value of x before swaping is:\",x)\n",
    "print(\"Value of y before swaping is:\",y)\n",
    "\n",
    "x,y = y,x\n",
    "\n",
    "print(\"Value of x after swaping is:\",x)\n",
    "print(\"Value of y after swaping is:\",y)"
   ]
  }
 ],
 "metadata": {
  "kernelspec": {
   "display_name": "Python 3",
   "language": "python",
   "name": "python3"
  },
  "language_info": {
   "codemirror_mode": {
    "name": "ipython",
    "version": 3
   },
   "file_extension": ".py",
   "mimetype": "text/x-python",
   "name": "python",
   "nbconvert_exporter": "python",
   "pygments_lexer": "ipython3",
   "version": "3.8.8"
  }
 },
 "nbformat": 4,
 "nbformat_minor": 5
}
